{
 "cells": [
  {
   "cell_type": "code",
   "execution_count": 1,
   "id": "c0c0b8ab",
   "metadata": {},
   "outputs": [],
   "source": [
    "from selenium import webdriver\n",
    "from selenium.webdriver.common.by import By\n",
    "from selenium.common.exceptions import NoSuchElementException, TimeoutException\n",
    "import time"
   ]
  },
  {
   "cell_type": "code",
   "execution_count": 2,
   "id": "7477a651",
   "metadata": {},
   "outputs": [],
   "source": [
    "driver = webdriver.Chrome()"
   ]
  },
  {
   "cell_type": "code",
   "execution_count": 3,
   "id": "6023e1c2",
   "metadata": {},
   "outputs": [
    {
     "name": "stdout",
     "output_type": "stream",
     "text": [
      "https://jobs.secrettelaviv.com/job/junior-ppc-fb/\n",
      "https://jobs.secrettelaviv.com/job/junior-qa-engineer-32/\n",
      "https://jobs.secrettelaviv.com/job/junior-account-manager-19/\n",
      "https://jobs.secrettelaviv.com/job/junior-mid-payroll-specialist/\n",
      "https://jobs.secrettelaviv.com/job/junior-data-analyst-18/\n",
      "https://jobs.secrettelaviv.com/job/junior-test-engineer-2/\n",
      "https://jobs.secrettelaviv.com/job/junior-social-acquisition-manager/\n",
      "https://jobs.secrettelaviv.com/job/oracle-finance-business-application-analyst-junior/\n",
      "https://jobs.secrettelaviv.com/job/oracle-logistics-business-application-analyst-junior-2/\n",
      "https://jobs.secrettelaviv.com/job/junior-application-business-analyst-maternity-leave/\n",
      "https://jobs.secrettelaviv.com/job/junior-full-stack-developer-38/\n",
      "https://jobs.secrettelaviv.com/job/junior-device-and-testing-engineer/\n",
      "https://jobs.secrettelaviv.com/job/junior-payments-risk-consultant-2/\n",
      "https://jobs.secrettelaviv.com/job/junior-account-operations-specialist-2/\n",
      "https://jobs.secrettelaviv.com/job/software-graduate/\n",
      "https://jobs.secrettelaviv.com/job/junior-business-data-analyst/\n",
      "https://jobs.secrettelaviv.com/job/junior-sous-chef/\n"
     ]
    }
   ],
   "source": [
    "base_url = 'https://jobs.secrettelaviv.com/page/{}/'\n",
    "job_urls = []\n",
    "for page in range(1, 9):\n",
    "    url = base_url.format(str(page))\n",
    "    driver.get(url)\n",
    "    time.sleep(2)\n",
    "\n",
    "    #Its an element that contians all the jobs I need to loop through\n",
    "    jobs_container = driver.find_element(By.CSS_SELECTOR, '.wpjb-job-list.wpjb-grid')\n",
    "    jobs = jobs_container.find_elements(By.CSS_SELECTOR, '.wpjb-grid-col.wpjb-col-40.wpjb-col-title')\n",
    "    #Looping thruogh the jobs\n",
    "    for job in jobs:\n",
    "        #The name and the url of job was inside an anker\n",
    "        anker_name_of_job_container = job.find_element(By.TAG_NAME, 'a')\n",
    "        name_of_job = anker_name_of_job_container.text\n",
    "        #Checking if a job contains a junior keyword then I append it \n",
    "        if 'Junior' in name_of_job or 'junior' in name_of_job:\n",
    "            url_of_job = anker_name_of_job_container.get_attribute('href')\n",
    "            print(url_of_job)\n",
    "            job_urls.append(url_of_job)\n",
    "            \n",
    "driver.close()\n"
   ]
  },
  {
   "cell_type": "code",
   "execution_count": null,
   "id": "63a2db6e",
   "metadata": {},
   "outputs": [],
   "source": []
  }
 ],
 "metadata": {
  "kernelspec": {
   "display_name": "Python 3",
   "language": "python",
   "name": "python3"
  },
  "language_info": {
   "codemirror_mode": {
    "name": "ipython",
    "version": 3
   },
   "file_extension": ".py",
   "mimetype": "text/x-python",
   "name": "python",
   "nbconvert_exporter": "python",
   "pygments_lexer": "ipython3",
   "version": "3.8.8"
  }
 },
 "nbformat": 4,
 "nbformat_minor": 5
}
